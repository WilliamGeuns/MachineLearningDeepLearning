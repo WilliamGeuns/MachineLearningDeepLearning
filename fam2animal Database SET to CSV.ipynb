{
 "cells": [
  {
   "cell_type": "code",
   "execution_count": 3,
   "metadata": {
    "collapsed": false
   },
   "outputs": [
    {
     "name": "stdout",
     "output_type": "stream",
     "text": [
      "At least one epoch has multiple events. Only the latency of the first event will be retained.\n"
     ]
    },
    {
     "name": "stderr",
     "output_type": "stream",
     "text": [
      "<ipython-input-3-853e37b2e7b3>:20: RuntimeWarning: At least one epoch has multiple events. Only the latency of the first event will be retained.\n",
      "  df = mne.io.read_epochs_eeglab('C:\\\\Users\\\\18321933\\\\Desktop\\\\SCCN Study\\\\fam2animalonly\\\\cba\\\\cbaanimal.set')\n"
     ]
    },
    {
     "name": "stdout",
     "output_type": "stream",
     "text": [
      "At least one epoch has multiple events. Only the latency of the first event will be retained.\n"
     ]
    },
    {
     "name": "stderr",
     "output_type": "stream",
     "text": [
      "<ipython-input-3-853e37b2e7b3>:20: RuntimeWarning: At least one epoch has multiple events. Only the latency of the first event will be retained.\n",
      "  df = mne.io.read_epochs_eeglab('C:\\\\Users\\\\18321933\\\\Desktop\\\\SCCN Study\\\\fam2animalonly\\\\cba\\\\cbaanimal.set')\n"
     ]
    },
    {
     "name": "stdout",
     "output_type": "stream",
     "text": [
      "At least one epoch has multiple events. Only the latency of the first event will be retained.\n"
     ]
    },
    {
     "name": "stderr",
     "output_type": "stream",
     "text": [
      "<ipython-input-3-853e37b2e7b3>:20: RuntimeWarning: At least one epoch has multiple events. Only the latency of the first event will be retained.\n",
      "  df = mne.io.read_epochs_eeglab('C:\\\\Users\\\\18321933\\\\Desktop\\\\SCCN Study\\\\fam2animalonly\\\\cba\\\\cbaanimal.set')\n"
     ]
    },
    {
     "name": "stdout",
     "output_type": "stream",
     "text": [
      "At least one epoch has multiple events. Only the latency of the first event will be retained.\n"
     ]
    },
    {
     "name": "stderr",
     "output_type": "stream",
     "text": [
      "<ipython-input-3-853e37b2e7b3>:20: RuntimeWarning: At least one epoch has multiple events. Only the latency of the first event will be retained.\n",
      "  df = mne.io.read_epochs_eeglab('C:\\\\Users\\\\18321933\\\\Desktop\\\\SCCN Study\\\\fam2animalonly\\\\cba\\\\cbaanimal.set')\n"
     ]
    },
    {
     "name": "stdout",
     "output_type": "stream",
     "text": [
      "At least one epoch has multiple events. Only the latency of the first event will be retained.\n"
     ]
    },
    {
     "name": "stderr",
     "output_type": "stream",
     "text": [
      "<ipython-input-3-853e37b2e7b3>:20: RuntimeWarning: At least one epoch has multiple events. Only the latency of the first event will be retained.\n",
      "  df = mne.io.read_epochs_eeglab('C:\\\\Users\\\\18321933\\\\Desktop\\\\SCCN Study\\\\fam2animalonly\\\\cba\\\\cbaanimal.set')\n"
     ]
    },
    {
     "name": "stdout",
     "output_type": "stream",
     "text": [
      "At least one epoch has multiple events. Only the latency of the first event will be retained.\n"
     ]
    },
    {
     "name": "stderr",
     "output_type": "stream",
     "text": [
      "<ipython-input-3-853e37b2e7b3>:20: RuntimeWarning: At least one epoch has multiple events. Only the latency of the first event will be retained.\n",
      "  df = mne.io.read_epochs_eeglab('C:\\\\Users\\\\18321933\\\\Desktop\\\\SCCN Study\\\\fam2animalonly\\\\cba\\\\cbaanimal.set')\n"
     ]
    },
    {
     "name": "stdout",
     "output_type": "stream",
     "text": [
      "At least one epoch has multiple events. Only the latency of the first event will be retained.\n"
     ]
    },
    {
     "name": "stderr",
     "output_type": "stream",
     "text": [
      "<ipython-input-3-853e37b2e7b3>:20: RuntimeWarning: At least one epoch has multiple events. Only the latency of the first event will be retained.\n",
      "  df = mne.io.read_epochs_eeglab('C:\\\\Users\\\\18321933\\\\Desktop\\\\SCCN Study\\\\fam2animalonly\\\\cba\\\\cbaanimal.set')\n"
     ]
    },
    {
     "name": "stdout",
     "output_type": "stream",
     "text": [
      "At least one epoch has multiple events. Only the latency of the first event will be retained.\n"
     ]
    },
    {
     "name": "stderr",
     "output_type": "stream",
     "text": [
      "<ipython-input-3-853e37b2e7b3>:20: RuntimeWarning: At least one epoch has multiple events. Only the latency of the first event will be retained.\n",
      "  df = mne.io.read_epochs_eeglab('C:\\\\Users\\\\18321933\\\\Desktop\\\\SCCN Study\\\\fam2animalonly\\\\cba\\\\cbaanimal.set')\n"
     ]
    },
    {
     "name": "stdout",
     "output_type": "stream",
     "text": [
      "At least one epoch has multiple events. Only the latency of the first event will be retained.\n"
     ]
    },
    {
     "name": "stderr",
     "output_type": "stream",
     "text": [
      "<ipython-input-3-853e37b2e7b3>:20: RuntimeWarning: At least one epoch has multiple events. Only the latency of the first event will be retained.\n",
      "  df = mne.io.read_epochs_eeglab('C:\\\\Users\\\\18321933\\\\Desktop\\\\SCCN Study\\\\fam2animalonly\\\\cba\\\\cbaanimal.set')\n"
     ]
    },
    {
     "name": "stdout",
     "output_type": "stream",
     "text": [
      "At least one epoch has multiple events. Only the latency of the first event will be retained.\n"
     ]
    },
    {
     "name": "stderr",
     "output_type": "stream",
     "text": [
      "<ipython-input-3-853e37b2e7b3>:20: RuntimeWarning: At least one epoch has multiple events. Only the latency of the first event will be retained.\n",
      "  df = mne.io.read_epochs_eeglab('C:\\\\Users\\\\18321933\\\\Desktop\\\\SCCN Study\\\\fam2animalonly\\\\cba\\\\cbaanimal.set')\n"
     ]
    },
    {
     "name": "stdout",
     "output_type": "stream",
     "text": [
      "At least one epoch has multiple events. Only the latency of the first event will be retained.\n"
     ]
    },
    {
     "name": "stderr",
     "output_type": "stream",
     "text": [
      "<ipython-input-3-853e37b2e7b3>:20: RuntimeWarning: At least one epoch has multiple events. Only the latency of the first event will be retained.\n",
      "  df = mne.io.read_epochs_eeglab('C:\\\\Users\\\\18321933\\\\Desktop\\\\SCCN Study\\\\fam2animalonly\\\\cba\\\\cbaanimal.set')\n"
     ]
    },
    {
     "name": "stdout",
     "output_type": "stream",
     "text": [
      "At least one epoch has multiple events. Only the latency of the first event will be retained.\n"
     ]
    },
    {
     "name": "stderr",
     "output_type": "stream",
     "text": [
      "<ipython-input-3-853e37b2e7b3>:20: RuntimeWarning: At least one epoch has multiple events. Only the latency of the first event will be retained.\n",
      "  df = mne.io.read_epochs_eeglab('C:\\\\Users\\\\18321933\\\\Desktop\\\\SCCN Study\\\\fam2animalonly\\\\cba\\\\cbaanimal.set')\n"
     ]
    },
    {
     "name": "stdout",
     "output_type": "stream",
     "text": [
      "At least one epoch has multiple events. Only the latency of the first event will be retained.\n"
     ]
    },
    {
     "name": "stderr",
     "output_type": "stream",
     "text": [
      "<ipython-input-3-853e37b2e7b3>:20: RuntimeWarning: At least one epoch has multiple events. Only the latency of the first event will be retained.\n",
      "  df = mne.io.read_epochs_eeglab('C:\\\\Users\\\\18321933\\\\Desktop\\\\SCCN Study\\\\fam2animalonly\\\\cba\\\\cbaanimal.set')\n"
     ]
    },
    {
     "name": "stdout",
     "output_type": "stream",
     "text": [
      "At least one epoch has multiple events. Only the latency of the first event will be retained.\n"
     ]
    },
    {
     "name": "stderr",
     "output_type": "stream",
     "text": [
      "<ipython-input-3-853e37b2e7b3>:20: RuntimeWarning: At least one epoch has multiple events. Only the latency of the first event will be retained.\n",
      "  df = mne.io.read_epochs_eeglab('C:\\\\Users\\\\18321933\\\\Desktop\\\\SCCN Study\\\\fam2animalonly\\\\cba\\\\cbaanimal.set')\n"
     ]
    },
    {
     "name": "stdout",
     "output_type": "stream",
     "text": [
      "At least one epoch has multiple events. Only the latency of the first event will be retained.\n"
     ]
    },
    {
     "name": "stderr",
     "output_type": "stream",
     "text": [
      "<ipython-input-3-853e37b2e7b3>:20: RuntimeWarning: At least one epoch has multiple events. Only the latency of the first event will be retained.\n",
      "  df = mne.io.read_epochs_eeglab('C:\\\\Users\\\\18321933\\\\Desktop\\\\SCCN Study\\\\fam2animalonly\\\\cba\\\\cbaanimal.set')\n"
     ]
    },
    {
     "name": "stdout",
     "output_type": "stream",
     "text": [
      "At least one epoch has multiple events. Only the latency of the first event will be retained.\n"
     ]
    },
    {
     "name": "stderr",
     "output_type": "stream",
     "text": [
      "<ipython-input-3-853e37b2e7b3>:20: RuntimeWarning: At least one epoch has multiple events. Only the latency of the first event will be retained.\n",
      "  df = mne.io.read_epochs_eeglab('C:\\\\Users\\\\18321933\\\\Desktop\\\\SCCN Study\\\\fam2animalonly\\\\cba\\\\cbaanimal.set')\n"
     ]
    },
    {
     "name": "stdout",
     "output_type": "stream",
     "text": [
      "At least one epoch has multiple events. Only the latency of the first event will be retained.\n"
     ]
    },
    {
     "name": "stderr",
     "output_type": "stream",
     "text": [
      "<ipython-input-3-853e37b2e7b3>:20: RuntimeWarning: At least one epoch has multiple events. Only the latency of the first event will be retained.\n",
      "  df = mne.io.read_epochs_eeglab('C:\\\\Users\\\\18321933\\\\Desktop\\\\SCCN Study\\\\fam2animalonly\\\\cba\\\\cbaanimal.set')\n"
     ]
    },
    {
     "name": "stdout",
     "output_type": "stream",
     "text": [
      "At least one epoch has multiple events. Only the latency of the first event will be retained.\n"
     ]
    },
    {
     "name": "stderr",
     "output_type": "stream",
     "text": [
      "<ipython-input-3-853e37b2e7b3>:20: RuntimeWarning: At least one epoch has multiple events. Only the latency of the first event will be retained.\n",
      "  df = mne.io.read_epochs_eeglab('C:\\\\Users\\\\18321933\\\\Desktop\\\\SCCN Study\\\\fam2animalonly\\\\cba\\\\cbaanimal.set')\n"
     ]
    },
    {
     "name": "stdout",
     "output_type": "stream",
     "text": [
      "At least one epoch has multiple events. Only the latency of the first event will be retained.\n"
     ]
    },
    {
     "name": "stderr",
     "output_type": "stream",
     "text": [
      "<ipython-input-3-853e37b2e7b3>:20: RuntimeWarning: At least one epoch has multiple events. Only the latency of the first event will be retained.\n",
      "  df = mne.io.read_epochs_eeglab('C:\\\\Users\\\\18321933\\\\Desktop\\\\SCCN Study\\\\fam2animalonly\\\\cba\\\\cbaanimal.set')\n"
     ]
    },
    {
     "name": "stdout",
     "output_type": "stream",
     "text": [
      "At least one epoch has multiple events. Only the latency of the first event will be retained.\n"
     ]
    },
    {
     "name": "stderr",
     "output_type": "stream",
     "text": [
      "<ipython-input-3-853e37b2e7b3>:20: RuntimeWarning: At least one epoch has multiple events. Only the latency of the first event will be retained.\n",
      "  df = mne.io.read_epochs_eeglab('C:\\\\Users\\\\18321933\\\\Desktop\\\\SCCN Study\\\\fam2animalonly\\\\cba\\\\cbaanimal.set')\n"
     ]
    },
    {
     "name": "stdout",
     "output_type": "stream",
     "text": [
      "At least one epoch has multiple events. Only the latency of the first event will be retained.\n"
     ]
    },
    {
     "name": "stderr",
     "output_type": "stream",
     "text": [
      "<ipython-input-3-853e37b2e7b3>:20: RuntimeWarning: At least one epoch has multiple events. Only the latency of the first event will be retained.\n",
      "  df = mne.io.read_epochs_eeglab('C:\\\\Users\\\\18321933\\\\Desktop\\\\SCCN Study\\\\fam2animalonly\\\\cba\\\\cbaanimal.set')\n"
     ]
    },
    {
     "name": "stdout",
     "output_type": "stream",
     "text": [
      "At least one epoch has multiple events. Only the latency of the first event will be retained.\n"
     ]
    },
    {
     "name": "stderr",
     "output_type": "stream",
     "text": [
      "<ipython-input-3-853e37b2e7b3>:20: RuntimeWarning: At least one epoch has multiple events. Only the latency of the first event will be retained.\n",
      "  df = mne.io.read_epochs_eeglab('C:\\\\Users\\\\18321933\\\\Desktop\\\\SCCN Study\\\\fam2animalonly\\\\cba\\\\cbaanimal.set')\n"
     ]
    },
    {
     "name": "stdout",
     "output_type": "stream",
     "text": [
      "At least one epoch has multiple events. Only the latency of the first event will be retained.\n"
     ]
    },
    {
     "name": "stderr",
     "output_type": "stream",
     "text": [
      "<ipython-input-3-853e37b2e7b3>:20: RuntimeWarning: At least one epoch has multiple events. Only the latency of the first event will be retained.\n",
      "  df = mne.io.read_epochs_eeglab('C:\\\\Users\\\\18321933\\\\Desktop\\\\SCCN Study\\\\fam2animalonly\\\\cba\\\\cbaanimal.set')\n"
     ]
    },
    {
     "name": "stdout",
     "output_type": "stream",
     "text": [
      "At least one epoch has multiple events. Only the latency of the first event will be retained.\n"
     ]
    },
    {
     "name": "stderr",
     "output_type": "stream",
     "text": [
      "<ipython-input-3-853e37b2e7b3>:20: RuntimeWarning: At least one epoch has multiple events. Only the latency of the first event will be retained.\n",
      "  df = mne.io.read_epochs_eeglab('C:\\\\Users\\\\18321933\\\\Desktop\\\\SCCN Study\\\\fam2animalonly\\\\cba\\\\cbaanimal.set')\n"
     ]
    },
    {
     "name": "stdout",
     "output_type": "stream",
     "text": [
      "At least one epoch has multiple events. Only the latency of the first event will be retained.\n"
     ]
    },
    {
     "name": "stderr",
     "output_type": "stream",
     "text": [
      "<ipython-input-3-853e37b2e7b3>:20: RuntimeWarning: At least one epoch has multiple events. Only the latency of the first event will be retained.\n",
      "  df = mne.io.read_epochs_eeglab('C:\\\\Users\\\\18321933\\\\Desktop\\\\SCCN Study\\\\fam2animalonly\\\\cba\\\\cbaanimal.set')\n"
     ]
    },
    {
     "name": "stdout",
     "output_type": "stream",
     "text": [
      "At least one epoch has multiple events. Only the latency of the first event will be retained.\n"
     ]
    },
    {
     "name": "stderr",
     "output_type": "stream",
     "text": [
      "<ipython-input-3-853e37b2e7b3>:20: RuntimeWarning: At least one epoch has multiple events. Only the latency of the first event will be retained.\n",
      "  df = mne.io.read_epochs_eeglab('C:\\\\Users\\\\18321933\\\\Desktop\\\\SCCN Study\\\\fam2animalonly\\\\cba\\\\cbaanimal.set')\n"
     ]
    },
    {
     "name": "stdout",
     "output_type": "stream",
     "text": [
      "At least one epoch has multiple events. Only the latency of the first event will be retained.\n"
     ]
    },
    {
     "name": "stderr",
     "output_type": "stream",
     "text": [
      "<ipython-input-3-853e37b2e7b3>:20: RuntimeWarning: At least one epoch has multiple events. Only the latency of the first event will be retained.\n",
      "  df = mne.io.read_epochs_eeglab('C:\\\\Users\\\\18321933\\\\Desktop\\\\SCCN Study\\\\fam2animalonly\\\\cba\\\\cbaanimal.set')\n"
     ]
    },
    {
     "name": "stdout",
     "output_type": "stream",
     "text": [
      "At least one epoch has multiple events. Only the latency of the first event will be retained.\n"
     ]
    },
    {
     "name": "stderr",
     "output_type": "stream",
     "text": [
      "<ipython-input-3-853e37b2e7b3>:20: RuntimeWarning: At least one epoch has multiple events. Only the latency of the first event will be retained.\n",
      "  df = mne.io.read_epochs_eeglab('C:\\\\Users\\\\18321933\\\\Desktop\\\\SCCN Study\\\\fam2animalonly\\\\cba\\\\cbaanimal.set')\n"
     ]
    },
    {
     "name": "stdout",
     "output_type": "stream",
     "text": [
      "At least one epoch has multiple events. Only the latency of the first event will be retained.\n"
     ]
    },
    {
     "name": "stderr",
     "output_type": "stream",
     "text": [
      "<ipython-input-3-853e37b2e7b3>:20: RuntimeWarning: At least one epoch has multiple events. Only the latency of the first event will be retained.\n",
      "  df = mne.io.read_epochs_eeglab('C:\\\\Users\\\\18321933\\\\Desktop\\\\SCCN Study\\\\fam2animalonly\\\\cba\\\\cbaanimal.set')\n"
     ]
    },
    {
     "name": "stdout",
     "output_type": "stream",
     "text": [
      "At least one epoch has multiple events. Only the latency of the first event will be retained.\n"
     ]
    },
    {
     "name": "stderr",
     "output_type": "stream",
     "text": [
      "<ipython-input-3-853e37b2e7b3>:20: RuntimeWarning: At least one epoch has multiple events. Only the latency of the first event will be retained.\n",
      "  df = mne.io.read_epochs_eeglab('C:\\\\Users\\\\18321933\\\\Desktop\\\\SCCN Study\\\\fam2animalonly\\\\cba\\\\cbaanimal.set')\n"
     ]
    },
    {
     "name": "stdout",
     "output_type": "stream",
     "text": [
      "At least one epoch has multiple events. Only the latency of the first event will be retained.\n"
     ]
    },
    {
     "name": "stderr",
     "output_type": "stream",
     "text": [
      "<ipython-input-3-853e37b2e7b3>:20: RuntimeWarning: At least one epoch has multiple events. Only the latency of the first event will be retained.\n",
      "  df = mne.io.read_epochs_eeglab('C:\\\\Users\\\\18321933\\\\Desktop\\\\SCCN Study\\\\fam2animalonly\\\\cba\\\\cbaanimal.set')\n"
     ]
    },
    {
     "name": "stdout",
     "output_type": "stream",
     "text": [
      "At least one epoch has multiple events. Only the latency of the first event will be retained.\n"
     ]
    },
    {
     "name": "stderr",
     "output_type": "stream",
     "text": [
      "<ipython-input-3-853e37b2e7b3>:20: RuntimeWarning: At least one epoch has multiple events. Only the latency of the first event will be retained.\n",
      "  df = mne.io.read_epochs_eeglab('C:\\\\Users\\\\18321933\\\\Desktop\\\\SCCN Study\\\\fam2animalonly\\\\cba\\\\cbaanimal.set')\n"
     ]
    },
    {
     "name": "stdout",
     "output_type": "stream",
     "text": [
      "At least one epoch has multiple events. Only the latency of the first event will be retained.\n"
     ]
    },
    {
     "name": "stderr",
     "output_type": "stream",
     "text": [
      "<ipython-input-3-853e37b2e7b3>:20: RuntimeWarning: At least one epoch has multiple events. Only the latency of the first event will be retained.\n",
      "  df = mne.io.read_epochs_eeglab('C:\\\\Users\\\\18321933\\\\Desktop\\\\SCCN Study\\\\fam2animalonly\\\\cba\\\\cbaanimal.set')\n"
     ]
    },
    {
     "name": "stdout",
     "output_type": "stream",
     "text": [
      "At least one epoch has multiple events. Only the latency of the first event will be retained.\n"
     ]
    },
    {
     "name": "stderr",
     "output_type": "stream",
     "text": [
      "<ipython-input-3-853e37b2e7b3>:20: RuntimeWarning: At least one epoch has multiple events. Only the latency of the first event will be retained.\n",
      "  df = mne.io.read_epochs_eeglab('C:\\\\Users\\\\18321933\\\\Desktop\\\\SCCN Study\\\\fam2animalonly\\\\cba\\\\cbaanimal.set')\n"
     ]
    },
    {
     "name": "stdout",
     "output_type": "stream",
     "text": [
      "At least one epoch has multiple events. Only the latency of the first event will be retained.\n"
     ]
    },
    {
     "name": "stderr",
     "output_type": "stream",
     "text": [
      "<ipython-input-3-853e37b2e7b3>:20: RuntimeWarning: At least one epoch has multiple events. Only the latency of the first event will be retained.\n",
      "  df = mne.io.read_epochs_eeglab('C:\\\\Users\\\\18321933\\\\Desktop\\\\SCCN Study\\\\fam2animalonly\\\\cba\\\\cbaanimal.set')\n"
     ]
    },
    {
     "name": "stdout",
     "output_type": "stream",
     "text": [
      "At least one epoch has multiple events. Only the latency of the first event will be retained.\n"
     ]
    },
    {
     "name": "stderr",
     "output_type": "stream",
     "text": [
      "<ipython-input-3-853e37b2e7b3>:20: RuntimeWarning: At least one epoch has multiple events. Only the latency of the first event will be retained.\n",
      "  df = mne.io.read_epochs_eeglab('C:\\\\Users\\\\18321933\\\\Desktop\\\\SCCN Study\\\\fam2animalonly\\\\cba\\\\cbaanimal.set')\n"
     ]
    },
    {
     "name": "stdout",
     "output_type": "stream",
     "text": [
      "At least one epoch has multiple events. Only the latency of the first event will be retained.\n"
     ]
    },
    {
     "name": "stderr",
     "output_type": "stream",
     "text": [
      "<ipython-input-3-853e37b2e7b3>:20: RuntimeWarning: At least one epoch has multiple events. Only the latency of the first event will be retained.\n",
      "  df = mne.io.read_epochs_eeglab('C:\\\\Users\\\\18321933\\\\Desktop\\\\SCCN Study\\\\fam2animalonly\\\\cba\\\\cbaanimal.set')\n"
     ]
    },
    {
     "name": "stdout",
     "output_type": "stream",
     "text": [
      "At least one epoch has multiple events. Only the latency of the first event will be retained.\n"
     ]
    },
    {
     "name": "stderr",
     "output_type": "stream",
     "text": [
      "<ipython-input-3-853e37b2e7b3>:20: RuntimeWarning: At least one epoch has multiple events. Only the latency of the first event will be retained.\n",
      "  df = mne.io.read_epochs_eeglab('C:\\\\Users\\\\18321933\\\\Desktop\\\\SCCN Study\\\\fam2animalonly\\\\cba\\\\cbaanimal.set')\n"
     ]
    },
    {
     "name": "stdout",
     "output_type": "stream",
     "text": [
      "At least one epoch has multiple events. Only the latency of the first event will be retained.\n"
     ]
    },
    {
     "name": "stderr",
     "output_type": "stream",
     "text": [
      "<ipython-input-3-853e37b2e7b3>:20: RuntimeWarning: At least one epoch has multiple events. Only the latency of the first event will be retained.\n",
      "  df = mne.io.read_epochs_eeglab('C:\\\\Users\\\\18321933\\\\Desktop\\\\SCCN Study\\\\fam2animalonly\\\\cba\\\\cbaanimal.set')\n"
     ]
    },
    {
     "name": "stdout",
     "output_type": "stream",
     "text": [
      "At least one epoch has multiple events. Only the latency of the first event will be retained.\n"
     ]
    },
    {
     "name": "stderr",
     "output_type": "stream",
     "text": [
      "<ipython-input-3-853e37b2e7b3>:20: RuntimeWarning: At least one epoch has multiple events. Only the latency of the first event will be retained.\n",
      "  df = mne.io.read_epochs_eeglab('C:\\\\Users\\\\18321933\\\\Desktop\\\\SCCN Study\\\\fam2animalonly\\\\cba\\\\cbaanimal.set')\n"
     ]
    },
    {
     "name": "stdout",
     "output_type": "stream",
     "text": [
      "At least one epoch has multiple events. Only the latency of the first event will be retained.\n"
     ]
    },
    {
     "name": "stderr",
     "output_type": "stream",
     "text": [
      "<ipython-input-3-853e37b2e7b3>:20: RuntimeWarning: At least one epoch has multiple events. Only the latency of the first event will be retained.\n",
      "  df = mne.io.read_epochs_eeglab('C:\\\\Users\\\\18321933\\\\Desktop\\\\SCCN Study\\\\fam2animalonly\\\\cba\\\\cbaanimal.set')\n"
     ]
    },
    {
     "name": "stdout",
     "output_type": "stream",
     "text": [
      "At least one epoch has multiple events. Only the latency of the first event will be retained.\n"
     ]
    },
    {
     "name": "stderr",
     "output_type": "stream",
     "text": [
      "<ipython-input-3-853e37b2e7b3>:20: RuntimeWarning: At least one epoch has multiple events. Only the latency of the first event will be retained.\n",
      "  df = mne.io.read_epochs_eeglab('C:\\\\Users\\\\18321933\\\\Desktop\\\\SCCN Study\\\\fam2animalonly\\\\cba\\\\cbaanimal.set')\n"
     ]
    },
    {
     "name": "stdout",
     "output_type": "stream",
     "text": [
      "At least one epoch has multiple events. Only the latency of the first event will be retained.\n"
     ]
    },
    {
     "name": "stderr",
     "output_type": "stream",
     "text": [
      "<ipython-input-3-853e37b2e7b3>:20: RuntimeWarning: At least one epoch has multiple events. Only the latency of the first event will be retained.\n",
      "  df = mne.io.read_epochs_eeglab('C:\\\\Users\\\\18321933\\\\Desktop\\\\SCCN Study\\\\fam2animalonly\\\\cba\\\\cbaanimal.set')\n"
     ]
    },
    {
     "name": "stdout",
     "output_type": "stream",
     "text": [
      "At least one epoch has multiple events. Only the latency of the first event will be retained.\n"
     ]
    },
    {
     "name": "stderr",
     "output_type": "stream",
     "text": [
      "<ipython-input-3-853e37b2e7b3>:20: RuntimeWarning: At least one epoch has multiple events. Only the latency of the first event will be retained.\n",
      "  df = mne.io.read_epochs_eeglab('C:\\\\Users\\\\18321933\\\\Desktop\\\\SCCN Study\\\\fam2animalonly\\\\cba\\\\cbaanimal.set')\n"
     ]
    },
    {
     "name": "stdout",
     "output_type": "stream",
     "text": [
      "At least one epoch has multiple events. Only the latency of the first event will be retained.\n"
     ]
    },
    {
     "name": "stderr",
     "output_type": "stream",
     "text": [
      "<ipython-input-3-853e37b2e7b3>:20: RuntimeWarning: At least one epoch has multiple events. Only the latency of the first event will be retained.\n",
      "  df = mne.io.read_epochs_eeglab('C:\\\\Users\\\\18321933\\\\Desktop\\\\SCCN Study\\\\fam2animalonly\\\\cba\\\\cbaanimal.set')\n"
     ]
    },
    {
     "name": "stdout",
     "output_type": "stream",
     "text": [
      "At least one epoch has multiple events. Only the latency of the first event will be retained.\n"
     ]
    },
    {
     "name": "stderr",
     "output_type": "stream",
     "text": [
      "<ipython-input-3-853e37b2e7b3>:20: RuntimeWarning: At least one epoch has multiple events. Only the latency of the first event will be retained.\n",
      "  df = mne.io.read_epochs_eeglab('C:\\\\Users\\\\18321933\\\\Desktop\\\\SCCN Study\\\\fam2animalonly\\\\cba\\\\cbaanimal.set')\n"
     ]
    },
    {
     "name": "stdout",
     "output_type": "stream",
     "text": [
      "At least one epoch has multiple events. Only the latency of the first event will be retained.\n"
     ]
    },
    {
     "name": "stderr",
     "output_type": "stream",
     "text": [
      "<ipython-input-3-853e37b2e7b3>:20: RuntimeWarning: At least one epoch has multiple events. Only the latency of the first event will be retained.\n",
      "  df = mne.io.read_epochs_eeglab('C:\\\\Users\\\\18321933\\\\Desktop\\\\SCCN Study\\\\fam2animalonly\\\\cba\\\\cbaanimal.set')\n"
     ]
    },
    {
     "name": "stdout",
     "output_type": "stream",
     "text": [
      "At least one epoch has multiple events. Only the latency of the first event will be retained.\n"
     ]
    },
    {
     "name": "stderr",
     "output_type": "stream",
     "text": [
      "<ipython-input-3-853e37b2e7b3>:20: RuntimeWarning: At least one epoch has multiple events. Only the latency of the first event will be retained.\n",
      "  df = mne.io.read_epochs_eeglab('C:\\\\Users\\\\18321933\\\\Desktop\\\\SCCN Study\\\\fam2animalonly\\\\cba\\\\cbaanimal.set')\n"
     ]
    },
    {
     "name": "stdout",
     "output_type": "stream",
     "text": [
      "At least one epoch has multiple events. Only the latency of the first event will be retained.\n"
     ]
    },
    {
     "name": "stderr",
     "output_type": "stream",
     "text": [
      "<ipython-input-3-853e37b2e7b3>:20: RuntimeWarning: At least one epoch has multiple events. Only the latency of the first event will be retained.\n",
      "  df = mne.io.read_epochs_eeglab('C:\\\\Users\\\\18321933\\\\Desktop\\\\SCCN Study\\\\fam2animalonly\\\\cba\\\\cbaanimal.set')\n"
     ]
    },
    {
     "name": "stdout",
     "output_type": "stream",
     "text": [
      "At least one epoch has multiple events. Only the latency of the first event will be retained.\n"
     ]
    },
    {
     "name": "stderr",
     "output_type": "stream",
     "text": [
      "<ipython-input-3-853e37b2e7b3>:20: RuntimeWarning: At least one epoch has multiple events. Only the latency of the first event will be retained.\n",
      "  df = mne.io.read_epochs_eeglab('C:\\\\Users\\\\18321933\\\\Desktop\\\\SCCN Study\\\\fam2animalonly\\\\cba\\\\cbaanimal.set')\n"
     ]
    },
    {
     "name": "stdout",
     "output_type": "stream",
     "text": [
      "At least one epoch has multiple events. Only the latency of the first event will be retained.\n"
     ]
    },
    {
     "name": "stderr",
     "output_type": "stream",
     "text": [
      "<ipython-input-3-853e37b2e7b3>:20: RuntimeWarning: At least one epoch has multiple events. Only the latency of the first event will be retained.\n",
      "  df = mne.io.read_epochs_eeglab('C:\\\\Users\\\\18321933\\\\Desktop\\\\SCCN Study\\\\fam2animalonly\\\\cba\\\\cbaanimal.set')\n"
     ]
    },
    {
     "name": "stdout",
     "output_type": "stream",
     "text": [
      "At least one epoch has multiple events. Only the latency of the first event will be retained.\n"
     ]
    },
    {
     "name": "stderr",
     "output_type": "stream",
     "text": [
      "<ipython-input-3-853e37b2e7b3>:20: RuntimeWarning: At least one epoch has multiple events. Only the latency of the first event will be retained.\n",
      "  df = mne.io.read_epochs_eeglab('C:\\\\Users\\\\18321933\\\\Desktop\\\\SCCN Study\\\\fam2animalonly\\\\cba\\\\cbaanimal.set')\n"
     ]
    },
    {
     "name": "stdout",
     "output_type": "stream",
     "text": [
      "At least one epoch has multiple events. Only the latency of the first event will be retained.\n"
     ]
    },
    {
     "name": "stderr",
     "output_type": "stream",
     "text": [
      "<ipython-input-3-853e37b2e7b3>:20: RuntimeWarning: At least one epoch has multiple events. Only the latency of the first event will be retained.\n",
      "  df = mne.io.read_epochs_eeglab('C:\\\\Users\\\\18321933\\\\Desktop\\\\SCCN Study\\\\fam2animalonly\\\\cba\\\\cbaanimal.set')\n"
     ]
    },
    {
     "name": "stdout",
     "output_type": "stream",
     "text": [
      "At least one epoch has multiple events. Only the latency of the first event will be retained.\n"
     ]
    },
    {
     "name": "stderr",
     "output_type": "stream",
     "text": [
      "<ipython-input-3-853e37b2e7b3>:20: RuntimeWarning: At least one epoch has multiple events. Only the latency of the first event will be retained.\n",
      "  df = mne.io.read_epochs_eeglab('C:\\\\Users\\\\18321933\\\\Desktop\\\\SCCN Study\\\\fam2animalonly\\\\cba\\\\cbaanimal.set')\n"
     ]
    },
    {
     "name": "stdout",
     "output_type": "stream",
     "text": [
      "At least one epoch has multiple events. Only the latency of the first event will be retained.\n"
     ]
    },
    {
     "name": "stderr",
     "output_type": "stream",
     "text": [
      "<ipython-input-3-853e37b2e7b3>:20: RuntimeWarning: At least one epoch has multiple events. Only the latency of the first event will be retained.\n",
      "  df = mne.io.read_epochs_eeglab('C:\\\\Users\\\\18321933\\\\Desktop\\\\SCCN Study\\\\fam2animalonly\\\\cba\\\\cbaanimal.set')\n"
     ]
    },
    {
     "name": "stdout",
     "output_type": "stream",
     "text": [
      "At least one epoch has multiple events. Only the latency of the first event will be retained.\n"
     ]
    },
    {
     "name": "stderr",
     "output_type": "stream",
     "text": [
      "<ipython-input-3-853e37b2e7b3>:20: RuntimeWarning: At least one epoch has multiple events. Only the latency of the first event will be retained.\n",
      "  df = mne.io.read_epochs_eeglab('C:\\\\Users\\\\18321933\\\\Desktop\\\\SCCN Study\\\\fam2animalonly\\\\cba\\\\cbaanimal.set')\n"
     ]
    },
    {
     "name": "stdout",
     "output_type": "stream",
     "text": [
      "At least one epoch has multiple events. Only the latency of the first event will be retained.\n"
     ]
    },
    {
     "name": "stderr",
     "output_type": "stream",
     "text": [
      "<ipython-input-3-853e37b2e7b3>:20: RuntimeWarning: At least one epoch has multiple events. Only the latency of the first event will be retained.\n",
      "  df = mne.io.read_epochs_eeglab('C:\\\\Users\\\\18321933\\\\Desktop\\\\SCCN Study\\\\fam2animalonly\\\\cba\\\\cbaanimal.set')\n"
     ]
    },
    {
     "name": "stdout",
     "output_type": "stream",
     "text": [
      "At least one epoch has multiple events. Only the latency of the first event will be retained.\n"
     ]
    },
    {
     "name": "stderr",
     "output_type": "stream",
     "text": [
      "<ipython-input-3-853e37b2e7b3>:20: RuntimeWarning: At least one epoch has multiple events. Only the latency of the first event will be retained.\n",
      "  df = mne.io.read_epochs_eeglab('C:\\\\Users\\\\18321933\\\\Desktop\\\\SCCN Study\\\\fam2animalonly\\\\cba\\\\cbaanimal.set')\n"
     ]
    },
    {
     "name": "stdout",
     "output_type": "stream",
     "text": [
      "At least one epoch has multiple events. Only the latency of the first event will be retained.\n"
     ]
    },
    {
     "name": "stderr",
     "output_type": "stream",
     "text": [
      "<ipython-input-3-853e37b2e7b3>:20: RuntimeWarning: At least one epoch has multiple events. Only the latency of the first event will be retained.\n",
      "  df = mne.io.read_epochs_eeglab('C:\\\\Users\\\\18321933\\\\Desktop\\\\SCCN Study\\\\fam2animalonly\\\\cba\\\\cbaanimal.set')\n"
     ]
    },
    {
     "name": "stdout",
     "output_type": "stream",
     "text": [
      "At least one epoch has multiple events. Only the latency of the first event will be retained.\n"
     ]
    },
    {
     "name": "stderr",
     "output_type": "stream",
     "text": [
      "<ipython-input-3-853e37b2e7b3>:20: RuntimeWarning: At least one epoch has multiple events. Only the latency of the first event will be retained.\n",
      "  df = mne.io.read_epochs_eeglab('C:\\\\Users\\\\18321933\\\\Desktop\\\\SCCN Study\\\\fam2animalonly\\\\cba\\\\cbaanimal.set')\n"
     ]
    },
    {
     "name": "stdout",
     "output_type": "stream",
     "text": [
      "At least one epoch has multiple events. Only the latency of the first event will be retained.\n"
     ]
    },
    {
     "name": "stderr",
     "output_type": "stream",
     "text": [
      "<ipython-input-3-853e37b2e7b3>:20: RuntimeWarning: At least one epoch has multiple events. Only the latency of the first event will be retained.\n",
      "  df = mne.io.read_epochs_eeglab('C:\\\\Users\\\\18321933\\\\Desktop\\\\SCCN Study\\\\fam2animalonly\\\\cba\\\\cbaanimal.set')\n"
     ]
    },
    {
     "name": "stdout",
     "output_type": "stream",
     "text": [
      "At least one epoch has multiple events. Only the latency of the first event will be retained.\n"
     ]
    },
    {
     "name": "stderr",
     "output_type": "stream",
     "text": [
      "<ipython-input-3-853e37b2e7b3>:20: RuntimeWarning: At least one epoch has multiple events. Only the latency of the first event will be retained.\n",
      "  df = mne.io.read_epochs_eeglab('C:\\\\Users\\\\18321933\\\\Desktop\\\\SCCN Study\\\\fam2animalonly\\\\cba\\\\cbaanimal.set')\n"
     ]
    },
    {
     "name": "stdout",
     "output_type": "stream",
     "text": [
      "At least one epoch has multiple events. Only the latency of the first event will be retained.\n"
     ]
    },
    {
     "name": "stderr",
     "output_type": "stream",
     "text": [
      "<ipython-input-3-853e37b2e7b3>:20: RuntimeWarning: At least one epoch has multiple events. Only the latency of the first event will be retained.\n",
      "  df = mne.io.read_epochs_eeglab('C:\\\\Users\\\\18321933\\\\Desktop\\\\SCCN Study\\\\fam2animalonly\\\\cba\\\\cbaanimal.set')\n"
     ]
    },
    {
     "name": "stdout",
     "output_type": "stream",
     "text": [
      "At least one epoch has multiple events. Only the latency of the first event will be retained.\n"
     ]
    },
    {
     "name": "stderr",
     "output_type": "stream",
     "text": [
      "<ipython-input-3-853e37b2e7b3>:20: RuntimeWarning: At least one epoch has multiple events. Only the latency of the first event will be retained.\n",
      "  df = mne.io.read_epochs_eeglab('C:\\\\Users\\\\18321933\\\\Desktop\\\\SCCN Study\\\\fam2animalonly\\\\cba\\\\cbaanimal.set')\n"
     ]
    },
    {
     "name": "stdout",
     "output_type": "stream",
     "text": [
      "At least one epoch has multiple events. Only the latency of the first event will be retained.\n"
     ]
    },
    {
     "name": "stderr",
     "output_type": "stream",
     "text": [
      "<ipython-input-3-853e37b2e7b3>:20: RuntimeWarning: At least one epoch has multiple events. Only the latency of the first event will be retained.\n",
      "  df = mne.io.read_epochs_eeglab('C:\\\\Users\\\\18321933\\\\Desktop\\\\SCCN Study\\\\fam2animalonly\\\\cba\\\\cbaanimal.set')\n"
     ]
    },
    {
     "name": "stdout",
     "output_type": "stream",
     "text": [
      "At least one epoch has multiple events. Only the latency of the first event will be retained.\n"
     ]
    },
    {
     "name": "stderr",
     "output_type": "stream",
     "text": [
      "<ipython-input-3-853e37b2e7b3>:20: RuntimeWarning: At least one epoch has multiple events. Only the latency of the first event will be retained.\n",
      "  df = mne.io.read_epochs_eeglab('C:\\\\Users\\\\18321933\\\\Desktop\\\\SCCN Study\\\\fam2animalonly\\\\cba\\\\cbaanimal.set')\n"
     ]
    },
    {
     "name": "stdout",
     "output_type": "stream",
     "text": [
      "At least one epoch has multiple events. Only the latency of the first event will be retained.\n"
     ]
    },
    {
     "name": "stderr",
     "output_type": "stream",
     "text": [
      "<ipython-input-3-853e37b2e7b3>:20: RuntimeWarning: At least one epoch has multiple events. Only the latency of the first event will be retained.\n",
      "  df = mne.io.read_epochs_eeglab('C:\\\\Users\\\\18321933\\\\Desktop\\\\SCCN Study\\\\fam2animalonly\\\\cba\\\\cbaanimal.set')\n"
     ]
    },
    {
     "name": "stdout",
     "output_type": "stream",
     "text": [
      "At least one epoch has multiple events. Only the latency of the first event will be retained.\n"
     ]
    },
    {
     "name": "stderr",
     "output_type": "stream",
     "text": [
      "<ipython-input-3-853e37b2e7b3>:20: RuntimeWarning: At least one epoch has multiple events. Only the latency of the first event will be retained.\n",
      "  df = mne.io.read_epochs_eeglab('C:\\\\Users\\\\18321933\\\\Desktop\\\\SCCN Study\\\\fam2animalonly\\\\cba\\\\cbaanimal.set')\n"
     ]
    },
    {
     "name": "stdout",
     "output_type": "stream",
     "text": [
      "At least one epoch has multiple events. Only the latency of the first event will be retained.\n"
     ]
    },
    {
     "name": "stderr",
     "output_type": "stream",
     "text": [
      "<ipython-input-3-853e37b2e7b3>:20: RuntimeWarning: At least one epoch has multiple events. Only the latency of the first event will be retained.\n",
      "  df = mne.io.read_epochs_eeglab('C:\\\\Users\\\\18321933\\\\Desktop\\\\SCCN Study\\\\fam2animalonly\\\\cba\\\\cbaanimal.set')\n"
     ]
    },
    {
     "name": "stdout",
     "output_type": "stream",
     "text": [
      "At least one epoch has multiple events. Only the latency of the first event will be retained.\n"
     ]
    },
    {
     "name": "stderr",
     "output_type": "stream",
     "text": [
      "<ipython-input-3-853e37b2e7b3>:20: RuntimeWarning: At least one epoch has multiple events. Only the latency of the first event will be retained.\n",
      "  df = mne.io.read_epochs_eeglab('C:\\\\Users\\\\18321933\\\\Desktop\\\\SCCN Study\\\\fam2animalonly\\\\cba\\\\cbaanimal.set')\n"
     ]
    },
    {
     "name": "stdout",
     "output_type": "stream",
     "text": [
      "At least one epoch has multiple events. Only the latency of the first event will be retained.\n"
     ]
    },
    {
     "name": "stderr",
     "output_type": "stream",
     "text": [
      "<ipython-input-3-853e37b2e7b3>:20: RuntimeWarning: At least one epoch has multiple events. Only the latency of the first event will be retained.\n",
      "  df = mne.io.read_epochs_eeglab('C:\\\\Users\\\\18321933\\\\Desktop\\\\SCCN Study\\\\fam2animalonly\\\\cba\\\\cbaanimal.set')\n"
     ]
    },
    {
     "name": "stdout",
     "output_type": "stream",
     "text": [
      "At least one epoch has multiple events. Only the latency of the first event will be retained.\n"
     ]
    },
    {
     "name": "stderr",
     "output_type": "stream",
     "text": [
      "<ipython-input-3-853e37b2e7b3>:20: RuntimeWarning: At least one epoch has multiple events. Only the latency of the first event will be retained.\n",
      "  df = mne.io.read_epochs_eeglab('C:\\\\Users\\\\18321933\\\\Desktop\\\\SCCN Study\\\\fam2animalonly\\\\cba\\\\cbaanimal.set')\n"
     ]
    },
    {
     "name": "stdout",
     "output_type": "stream",
     "text": [
      "At least one epoch has multiple events. Only the latency of the first event will be retained.\n"
     ]
    },
    {
     "name": "stderr",
     "output_type": "stream",
     "text": [
      "<ipython-input-3-853e37b2e7b3>:20: RuntimeWarning: At least one epoch has multiple events. Only the latency of the first event will be retained.\n",
      "  df = mne.io.read_epochs_eeglab('C:\\\\Users\\\\18321933\\\\Desktop\\\\SCCN Study\\\\fam2animalonly\\\\cba\\\\cbaanimal.set')\n"
     ]
    },
    {
     "name": "stdout",
     "output_type": "stream",
     "text": [
      "At least one epoch has multiple events. Only the latency of the first event will be retained.\n"
     ]
    },
    {
     "name": "stderr",
     "output_type": "stream",
     "text": [
      "<ipython-input-3-853e37b2e7b3>:20: RuntimeWarning: At least one epoch has multiple events. Only the latency of the first event will be retained.\n",
      "  df = mne.io.read_epochs_eeglab('C:\\\\Users\\\\18321933\\\\Desktop\\\\SCCN Study\\\\fam2animalonly\\\\cba\\\\cbaanimal.set')\n"
     ]
    },
    {
     "name": "stdout",
     "output_type": "stream",
     "text": [
      "At least one epoch has multiple events. Only the latency of the first event will be retained.\n"
     ]
    },
    {
     "name": "stderr",
     "output_type": "stream",
     "text": [
      "<ipython-input-3-853e37b2e7b3>:20: RuntimeWarning: At least one epoch has multiple events. Only the latency of the first event will be retained.\n",
      "  df = mne.io.read_epochs_eeglab('C:\\\\Users\\\\18321933\\\\Desktop\\\\SCCN Study\\\\fam2animalonly\\\\cba\\\\cbaanimal.set')\n"
     ]
    },
    {
     "name": "stdout",
     "output_type": "stream",
     "text": [
      "At least one epoch has multiple events. Only the latency of the first event will be retained.\n"
     ]
    },
    {
     "name": "stderr",
     "output_type": "stream",
     "text": [
      "<ipython-input-3-853e37b2e7b3>:20: RuntimeWarning: At least one epoch has multiple events. Only the latency of the first event will be retained.\n",
      "  df = mne.io.read_epochs_eeglab('C:\\\\Users\\\\18321933\\\\Desktop\\\\SCCN Study\\\\fam2animalonly\\\\cba\\\\cbaanimal.set')\n"
     ]
    },
    {
     "name": "stdout",
     "output_type": "stream",
     "text": [
      "At least one epoch has multiple events. Only the latency of the first event will be retained.\n"
     ]
    },
    {
     "name": "stderr",
     "output_type": "stream",
     "text": [
      "<ipython-input-3-853e37b2e7b3>:20: RuntimeWarning: At least one epoch has multiple events. Only the latency of the first event will be retained.\n",
      "  df = mne.io.read_epochs_eeglab('C:\\\\Users\\\\18321933\\\\Desktop\\\\SCCN Study\\\\fam2animalonly\\\\cba\\\\cbaanimal.set')\n"
     ]
    },
    {
     "name": "stdout",
     "output_type": "stream",
     "text": [
      "At least one epoch has multiple events. Only the latency of the first event will be retained.\n"
     ]
    },
    {
     "name": "stderr",
     "output_type": "stream",
     "text": [
      "<ipython-input-3-853e37b2e7b3>:20: RuntimeWarning: At least one epoch has multiple events. Only the latency of the first event will be retained.\n",
      "  df = mne.io.read_epochs_eeglab('C:\\\\Users\\\\18321933\\\\Desktop\\\\SCCN Study\\\\fam2animalonly\\\\cba\\\\cbaanimal.set')\n"
     ]
    },
    {
     "name": "stdout",
     "output_type": "stream",
     "text": [
      "At least one epoch has multiple events. Only the latency of the first event will be retained.\n"
     ]
    },
    {
     "name": "stderr",
     "output_type": "stream",
     "text": [
      "<ipython-input-3-853e37b2e7b3>:20: RuntimeWarning: At least one epoch has multiple events. Only the latency of the first event will be retained.\n",
      "  df = mne.io.read_epochs_eeglab('C:\\\\Users\\\\18321933\\\\Desktop\\\\SCCN Study\\\\fam2animalonly\\\\cba\\\\cbaanimal.set')\n"
     ]
    },
    {
     "name": "stdout",
     "output_type": "stream",
     "text": [
      "At least one epoch has multiple events. Only the latency of the first event will be retained.\n"
     ]
    },
    {
     "name": "stderr",
     "output_type": "stream",
     "text": [
      "<ipython-input-3-853e37b2e7b3>:20: RuntimeWarning: At least one epoch has multiple events. Only the latency of the first event will be retained.\n",
      "  df = mne.io.read_epochs_eeglab('C:\\\\Users\\\\18321933\\\\Desktop\\\\SCCN Study\\\\fam2animalonly\\\\cba\\\\cbaanimal.set')\n"
     ]
    },
    {
     "name": "stdout",
     "output_type": "stream",
     "text": [
      "At least one epoch has multiple events. Only the latency of the first event will be retained.\n"
     ]
    },
    {
     "name": "stderr",
     "output_type": "stream",
     "text": [
      "<ipython-input-3-853e37b2e7b3>:20: RuntimeWarning: At least one epoch has multiple events. Only the latency of the first event will be retained.\n",
      "  df = mne.io.read_epochs_eeglab('C:\\\\Users\\\\18321933\\\\Desktop\\\\SCCN Study\\\\fam2animalonly\\\\cba\\\\cbaanimal.set')\n"
     ]
    },
    {
     "name": "stdout",
     "output_type": "stream",
     "text": [
      "At least one epoch has multiple events. Only the latency of the first event will be retained.\n"
     ]
    },
    {
     "name": "stderr",
     "output_type": "stream",
     "text": [
      "<ipython-input-3-853e37b2e7b3>:20: RuntimeWarning: At least one epoch has multiple events. Only the latency of the first event will be retained.\n",
      "  df = mne.io.read_epochs_eeglab('C:\\\\Users\\\\18321933\\\\Desktop\\\\SCCN Study\\\\fam2animalonly\\\\cba\\\\cbaanimal.set')\n"
     ]
    },
    {
     "name": "stdout",
     "output_type": "stream",
     "text": [
      "At least one epoch has multiple events. Only the latency of the first event will be retained.\n"
     ]
    },
    {
     "name": "stderr",
     "output_type": "stream",
     "text": [
      "<ipython-input-3-853e37b2e7b3>:20: RuntimeWarning: At least one epoch has multiple events. Only the latency of the first event will be retained.\n",
      "  df = mne.io.read_epochs_eeglab('C:\\\\Users\\\\18321933\\\\Desktop\\\\SCCN Study\\\\fam2animalonly\\\\cba\\\\cbaanimal.set')\n"
     ]
    },
    {
     "name": "stdout",
     "output_type": "stream",
     "text": [
      "At least one epoch has multiple events. Only the latency of the first event will be retained.\n"
     ]
    },
    {
     "name": "stderr",
     "output_type": "stream",
     "text": [
      "<ipython-input-3-853e37b2e7b3>:20: RuntimeWarning: At least one epoch has multiple events. Only the latency of the first event will be retained.\n",
      "  df = mne.io.read_epochs_eeglab('C:\\\\Users\\\\18321933\\\\Desktop\\\\SCCN Study\\\\fam2animalonly\\\\cba\\\\cbaanimal.set')\n"
     ]
    },
    {
     "name": "stdout",
     "output_type": "stream",
     "text": [
      "At least one epoch has multiple events. Only the latency of the first event will be retained.\n"
     ]
    },
    {
     "name": "stderr",
     "output_type": "stream",
     "text": [
      "<ipython-input-3-853e37b2e7b3>:20: RuntimeWarning: At least one epoch has multiple events. Only the latency of the first event will be retained.\n",
      "  df = mne.io.read_epochs_eeglab('C:\\\\Users\\\\18321933\\\\Desktop\\\\SCCN Study\\\\fam2animalonly\\\\cba\\\\cbaanimal.set')\n"
     ]
    },
    {
     "name": "stdout",
     "output_type": "stream",
     "text": [
      "At least one epoch has multiple events. Only the latency of the first event will be retained.\n"
     ]
    },
    {
     "name": "stderr",
     "output_type": "stream",
     "text": [
      "<ipython-input-3-853e37b2e7b3>:20: RuntimeWarning: At least one epoch has multiple events. Only the latency of the first event will be retained.\n",
      "  df = mne.io.read_epochs_eeglab('C:\\\\Users\\\\18321933\\\\Desktop\\\\SCCN Study\\\\fam2animalonly\\\\cba\\\\cbaanimal.set')\n"
     ]
    },
    {
     "name": "stdout",
     "output_type": "stream",
     "text": [
      "At least one epoch has multiple events. Only the latency of the first event will be retained.\n"
     ]
    },
    {
     "name": "stderr",
     "output_type": "stream",
     "text": [
      "<ipython-input-3-853e37b2e7b3>:20: RuntimeWarning: At least one epoch has multiple events. Only the latency of the first event will be retained.\n",
      "  df = mne.io.read_epochs_eeglab('C:\\\\Users\\\\18321933\\\\Desktop\\\\SCCN Study\\\\fam2animalonly\\\\cba\\\\cbaanimal.set')\n"
     ]
    },
    {
     "name": "stdout",
     "output_type": "stream",
     "text": [
      "At least one epoch has multiple events. Only the latency of the first event will be retained.\n"
     ]
    },
    {
     "name": "stderr",
     "output_type": "stream",
     "text": [
      "<ipython-input-3-853e37b2e7b3>:20: RuntimeWarning: At least one epoch has multiple events. Only the latency of the first event will be retained.\n",
      "  df = mne.io.read_epochs_eeglab('C:\\\\Users\\\\18321933\\\\Desktop\\\\SCCN Study\\\\fam2animalonly\\\\cba\\\\cbaanimal.set')\n"
     ]
    },
    {
     "name": "stdout",
     "output_type": "stream",
     "text": [
      "At least one epoch has multiple events. Only the latency of the first event will be retained.\n"
     ]
    },
    {
     "name": "stderr",
     "output_type": "stream",
     "text": [
      "<ipython-input-3-853e37b2e7b3>:20: RuntimeWarning: At least one epoch has multiple events. Only the latency of the first event will be retained.\n",
      "  df = mne.io.read_epochs_eeglab('C:\\\\Users\\\\18321933\\\\Desktop\\\\SCCN Study\\\\fam2animalonly\\\\cba\\\\cbaanimal.set')\n"
     ]
    },
    {
     "name": "stdout",
     "output_type": "stream",
     "text": [
      "At least one epoch has multiple events. Only the latency of the first event will be retained.\n"
     ]
    },
    {
     "name": "stderr",
     "output_type": "stream",
     "text": [
      "<ipython-input-3-853e37b2e7b3>:20: RuntimeWarning: At least one epoch has multiple events. Only the latency of the first event will be retained.\n",
      "  df = mne.io.read_epochs_eeglab('C:\\\\Users\\\\18321933\\\\Desktop\\\\SCCN Study\\\\fam2animalonly\\\\cba\\\\cbaanimal.set')\n"
     ]
    },
    {
     "name": "stdout",
     "output_type": "stream",
     "text": [
      "At least one epoch has multiple events. Only the latency of the first event will be retained.\n"
     ]
    },
    {
     "name": "stderr",
     "output_type": "stream",
     "text": [
      "<ipython-input-3-853e37b2e7b3>:20: RuntimeWarning: At least one epoch has multiple events. Only the latency of the first event will be retained.\n",
      "  df = mne.io.read_epochs_eeglab('C:\\\\Users\\\\18321933\\\\Desktop\\\\SCCN Study\\\\fam2animalonly\\\\cba\\\\cbaanimal.set')\n"
     ]
    },
    {
     "name": "stdout",
     "output_type": "stream",
     "text": [
      "At least one epoch has multiple events. Only the latency of the first event will be retained.\n"
     ]
    },
    {
     "name": "stderr",
     "output_type": "stream",
     "text": [
      "<ipython-input-3-853e37b2e7b3>:20: RuntimeWarning: At least one epoch has multiple events. Only the latency of the first event will be retained.\n",
      "  df = mne.io.read_epochs_eeglab('C:\\\\Users\\\\18321933\\\\Desktop\\\\SCCN Study\\\\fam2animalonly\\\\cba\\\\cbaanimal.set')\n"
     ]
    },
    {
     "name": "stdout",
     "output_type": "stream",
     "text": [
      "At least one epoch has multiple events. Only the latency of the first event will be retained.\n"
     ]
    },
    {
     "name": "stderr",
     "output_type": "stream",
     "text": [
      "<ipython-input-3-853e37b2e7b3>:20: RuntimeWarning: At least one epoch has multiple events. Only the latency of the first event will be retained.\n",
      "  df = mne.io.read_epochs_eeglab('C:\\\\Users\\\\18321933\\\\Desktop\\\\SCCN Study\\\\fam2animalonly\\\\cba\\\\cbaanimal.set')\n"
     ]
    },
    {
     "name": "stdout",
     "output_type": "stream",
     "text": [
      "At least one epoch has multiple events. Only the latency of the first event will be retained.\n"
     ]
    },
    {
     "name": "stderr",
     "output_type": "stream",
     "text": [
      "<ipython-input-3-853e37b2e7b3>:20: RuntimeWarning: At least one epoch has multiple events. Only the latency of the first event will be retained.\n",
      "  df = mne.io.read_epochs_eeglab('C:\\\\Users\\\\18321933\\\\Desktop\\\\SCCN Study\\\\fam2animalonly\\\\cba\\\\cbaanimal.set')\n"
     ]
    },
    {
     "name": "stdout",
     "output_type": "stream",
     "text": [
      "At least one epoch has multiple events. Only the latency of the first event will be retained.\n"
     ]
    },
    {
     "name": "stderr",
     "output_type": "stream",
     "text": [
      "<ipython-input-3-853e37b2e7b3>:20: RuntimeWarning: At least one epoch has multiple events. Only the latency of the first event will be retained.\n",
      "  df = mne.io.read_epochs_eeglab('C:\\\\Users\\\\18321933\\\\Desktop\\\\SCCN Study\\\\fam2animalonly\\\\cba\\\\cbaanimal.set')\n"
     ]
    },
    {
     "name": "stdout",
     "output_type": "stream",
     "text": [
      "At least one epoch has multiple events. Only the latency of the first event will be retained.\n"
     ]
    },
    {
     "name": "stderr",
     "output_type": "stream",
     "text": [
      "<ipython-input-3-853e37b2e7b3>:20: RuntimeWarning: At least one epoch has multiple events. Only the latency of the first event will be retained.\n",
      "  df = mne.io.read_epochs_eeglab('C:\\\\Users\\\\18321933\\\\Desktop\\\\SCCN Study\\\\fam2animalonly\\\\cba\\\\cbaanimal.set')\n"
     ]
    },
    {
     "name": "stdout",
     "output_type": "stream",
     "text": [
      "At least one epoch has multiple events. Only the latency of the first event will be retained.\n"
     ]
    },
    {
     "name": "stderr",
     "output_type": "stream",
     "text": [
      "<ipython-input-3-853e37b2e7b3>:20: RuntimeWarning: At least one epoch has multiple events. Only the latency of the first event will be retained.\n",
      "  df = mne.io.read_epochs_eeglab('C:\\\\Users\\\\18321933\\\\Desktop\\\\SCCN Study\\\\fam2animalonly\\\\cba\\\\cbaanimal.set')\n"
     ]
    },
    {
     "name": "stdout",
     "output_type": "stream",
     "text": [
      "At least one epoch has multiple events. Only the latency of the first event will be retained.\n"
     ]
    },
    {
     "name": "stderr",
     "output_type": "stream",
     "text": [
      "<ipython-input-3-853e37b2e7b3>:20: RuntimeWarning: At least one epoch has multiple events. Only the latency of the first event will be retained.\n",
      "  df = mne.io.read_epochs_eeglab('C:\\\\Users\\\\18321933\\\\Desktop\\\\SCCN Study\\\\fam2animalonly\\\\cba\\\\cbaanimal.set')\n"
     ]
    },
    {
     "name": "stdout",
     "output_type": "stream",
     "text": [
      "At least one epoch has multiple events. Only the latency of the first event will be retained.\n"
     ]
    },
    {
     "name": "stderr",
     "output_type": "stream",
     "text": [
      "<ipython-input-3-853e37b2e7b3>:20: RuntimeWarning: At least one epoch has multiple events. Only the latency of the first event will be retained.\n",
      "  df = mne.io.read_epochs_eeglab('C:\\\\Users\\\\18321933\\\\Desktop\\\\SCCN Study\\\\fam2animalonly\\\\cba\\\\cbaanimal.set')\n"
     ]
    }
   ],
   "source": [
    "import numpy as np\n",
    "import mne\n",
    "import pandas as pd\n",
    "\n",
    "mne.set_log_level('WARNING')\n",
    "\n",
    "'''\n",
    "df format\n",
    "\n",
    "epoch 1                 epoch ...               epoch 193                \n",
    "[Chanel    time step  ] [Chanel    time step  ] [Chanel    time step  ]\n",
    "[   1      0 ... 3000 ] [   1      0 ... 3000 ] [   1      0 ... 3000 ]\n",
    "[   .  .              ] [   .  .              ] [   .  .              ]\n",
    "[   .     .           ] [   .     .           ] [   .     .           ]\n",
    "[   .        .        ] [   .        .        ] [   .        .        ]\n",
    "[   31          .     ] [   31          .     ] [   31          .     ] \n",
    "'''\n",
    "\n",
    "for j in range(1,200):\n",
    "    df = mne.io.read_epochs_eeglab('C:\\\\Users\\\\18321933\\\\Desktop\\\\SCCN Study\\\\fam2animalonly\\\\cba\\\\cbaanimal.set')\n",
    "    i=0\n",
    "    \n",
    "    for epoch in df:\n",
    "        i=i+1\n",
    "        dfNew1 = pd.DataFrame(epoch)\n",
    "        np.savetxt(format(j, '03d') + \" \" + format(i, '03d') + \".csv\",dfNew1,delimiter=',')"
   ]
  }
 ],
 "metadata": {
  "kernelspec": {
   "display_name": "Python 3",
   "language": "python",
   "name": "python3"
  },
  "language_info": {
   "codemirror_mode": {
    "name": "ipython",
    "version": 3
   },
   "file_extension": ".py",
   "mimetype": "text/x-python",
   "name": "python",
   "nbconvert_exporter": "python",
   "pygments_lexer": "ipython3",
   "version": "3.4.4"
  }
 },
 "nbformat": 4,
 "nbformat_minor": 0
}
