{
 "cells": [
  {
   "cell_type": "code",
   "execution_count": 11,
   "metadata": {},
   "outputs": [],
   "source": [
    "import numpy as np\n",
    "import mne\n",
    "import pandas as pd\n",
    "\n",
    "mne.set_log_level('WARNING')\n",
    "\n",
    "'''\n",
    "df format\n",
    "\n",
    "epoch 1                 epoch ...               epoch 40                \n",
    "[Chanel    time step  ] [Chanel    time step  ] [Chanel    time step  ]\n",
    "[   1      0 ... 2500 ] [   1      0 ... 2500 ] [   1      0 ... 2500 ]\n",
    "[   .  .              ] [   .  .              ] [   .  .              ]\n",
    "[   .     .           ] [   .     .           ] [   .     .           ]\n",
    "[   .        .        ] [   .        .        ] [   .        .        ]\n",
    "[   60          .     ] [   60          .     ] [   60          .     ] \n",
    "'''\n",
    "\n",
    "for j in range(1,19):\n",
    "    df = mne.io.read_epochs_eeglab('I:\\\\a Skripsie\\\\a Data\\\\18-08-22 - Neele\\\\Preprocessed Data\\\\ICA\\\\Neele T{} Epoch.set'.format(int(j)))\n",
    "    i=0\n",
    "    \n",
    "    for epoch in df:\n",
    "        i=i+1\n",
    "        dfNew1 = pd.DataFrame(epoch)\n",
    "        np.savetxt(format(j, '02d') + \" \" + format(i, '02d') + \".csv\",dfNew1,delimiter=',')"
   ]
  },
  {
   "cell_type": "code",
   "execution_count": null,
   "metadata": {},
   "outputs": [],
   "source": []
  },
  {
   "cell_type": "code",
   "execution_count": null,
   "metadata": {},
   "outputs": [],
   "source": []
  }
 ],
 "metadata": {
  "kernelspec": {
   "display_name": "Python 3",
   "language": "python",
   "name": "python3"
  },
  "language_info": {
   "codemirror_mode": {
    "name": "ipython",
    "version": 3
   },
   "file_extension": ".py",
   "mimetype": "text/x-python",
   "name": "python",
   "nbconvert_exporter": "python",
   "pygments_lexer": "ipython3",
   "version": "3.6.5"
  }
 },
 "nbformat": 4,
 "nbformat_minor": 2
}
