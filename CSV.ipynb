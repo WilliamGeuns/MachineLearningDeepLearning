{
 "cells": [
  {
   "cell_type": "code",
   "execution_count": 26,
   "metadata": {},
   "outputs": [
    {
     "name": "stdout",
     "output_type": "stream",
     "text": [
      "[[-4.08154058e-06  1.32127428e-06  5.57935381e-06 ...  1.30058355e-05\n",
      "   1.76242676e-05  1.90798378e-05]\n",
      " [ 9.27314281e-06  9.76325417e-06  9.08533955e-06 ...  2.53476734e-05\n",
      "   2.29331703e-05  2.07972126e-05]\n",
      " [ 7.25041771e-06  7.46044827e-06  7.96982574e-06 ...  2.34529915e-05\n",
      "   2.13052158e-05  1.95446968e-05]\n",
      " ...\n",
      " [ 8.88313580e-06  9.07663155e-06  8.56703377e-06 ...  3.09482956e-06\n",
      "   1.47370529e-06 -3.02296638e-07]\n",
      " [ 1.46086121e-06  6.99610043e-06  9.26691341e-06 ...  5.17082500e-06\n",
      "   3.57315588e-06  4.70040846e-06]\n",
      " [ 7.68575239e-06  1.01153898e-05  9.77976322e-06 ... -5.29824829e-06\n",
      "  -1.17730865e-05 -1.02045269e-05]]\n"
     ]
    }
   ],
   "source": [
    "'''import csv\n",
    "\n",
    "a = [[1.2,'abc',3],[1.2,'werew',4],[1.4,'qew',2]]\n",
    "\n",
    "with open(\"output.csv\",\"w\", newline='') as f:\n",
    "    writer = csv.writer(f)\n",
    "    writer.writerows(a)'''\n",
    "\n",
    "import mne\n",
    "import pandas as pd\n",
    "import numpy as np\n",
    "import csv\n",
    "\n",
    "mne.set_log_level('WARNING')\n",
    "\n",
    "df = mne.io.read_epochs_eeglab('E:\\\\a_Skripsie\\\\Data\\\\a Data\\\\18-08-22 - Neele\\\\Preprocessed Data\\\\ICA\\\\Neele T1 epoch.set')\n",
    "\n",
    "for ep in df:\n",
    "    newEP = np.reshape(ep.flatten(), (-1, 2500))\n",
    "    \n",
    "    dfn = pd.DataFrame(ep)\n",
    "        #dfn1 = dfn.values.flatten()\n",
    "        name = str(j)+str(i)+'.csv'\n",
    "        dfn.to_csv(name, sep='.', header=np.arange(2500),na_rep = 'mean',\n",
    "                   index=['Fp1','Fz','F3','F7','FT9','FC5','FC1','C3','T7','CP5','ÇP1','Pz','P3','P7','O1','Oz','O2','P4','P8',\n",
    "                          'CP6','CP2','C4','T8','FT10','FC6','FC2','F4','F8','Fp2','AF7','AF3','AFz','F1','F5','FT7','FC3','FCz',\n",
    "                          'C1','C5','CP3','P1','P5','PO7','PO3','POz','PO4','PO8','P6','P2','CPz','CP4','TP8','C6','C2','FC4','FT8',\n",
    "                          'F6','F2','AF4','AF8'])\n",
    "        i += 1\n",
    "\n",
    "#with open(\"output.csv\",\"w\", newline='') as f:\n",
    "#    writer = csv.writer(f)\n",
    "#    writer.writerows(B)\n",
    "\n",
    "\n",
    "\n",
    "\n"
   ]
  }
 ],
 "metadata": {
  "kernelspec": {
   "display_name": "Python 3",
   "language": "python",
   "name": "python3"
  },
  "language_info": {
   "codemirror_mode": {
    "name": "ipython",
    "version": 3
   },
   "file_extension": ".py",
   "mimetype": "text/x-python",
   "name": "python",
   "nbconvert_exporter": "python",
   "pygments_lexer": "ipython3",
   "version": "3.6.5"
  }
 },
 "nbformat": 4,
 "nbformat_minor": 2
}
