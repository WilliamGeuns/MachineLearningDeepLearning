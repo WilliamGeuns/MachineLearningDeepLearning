{
 "cells": [
  {
   "cell_type": "code",
   "execution_count": 63,
   "metadata": {},
   "outputs": [
    {
     "ename": "KeyboardInterrupt",
     "evalue": "",
     "output_type": "error",
     "traceback": [
      "\u001b[1;31m---------------------------------------------------------------------------\u001b[0m",
      "\u001b[1;31mKeyboardInterrupt\u001b[0m                         Traceback (most recent call last)",
      "\u001b[1;32m<ipython-input-63-7ceb95278d15>\u001b[0m in \u001b[0;36m<module>\u001b[1;34m()\u001b[0m\n\u001b[0;32m     18\u001b[0m                           \u001b[1;34m'CP6'\u001b[0m\u001b[1;33m,\u001b[0m\u001b[1;34m'CP2'\u001b[0m\u001b[1;33m,\u001b[0m\u001b[1;34m'C4'\u001b[0m\u001b[1;33m,\u001b[0m\u001b[1;34m'T8'\u001b[0m\u001b[1;33m,\u001b[0m\u001b[1;34m'FT10'\u001b[0m\u001b[1;33m,\u001b[0m\u001b[1;34m'FC6'\u001b[0m\u001b[1;33m,\u001b[0m\u001b[1;34m'FC2'\u001b[0m\u001b[1;33m,\u001b[0m\u001b[1;34m'F4'\u001b[0m\u001b[1;33m,\u001b[0m\u001b[1;34m'F8'\u001b[0m\u001b[1;33m,\u001b[0m\u001b[1;34m'Fp2'\u001b[0m\u001b[1;33m,\u001b[0m\u001b[1;34m'AF7'\u001b[0m\u001b[1;33m,\u001b[0m\u001b[1;34m'AF3'\u001b[0m\u001b[1;33m,\u001b[0m\u001b[1;34m'AFz'\u001b[0m\u001b[1;33m,\u001b[0m\u001b[1;34m'F1'\u001b[0m\u001b[1;33m,\u001b[0m\u001b[1;34m'F5'\u001b[0m\u001b[1;33m,\u001b[0m\u001b[1;34m'FT7'\u001b[0m\u001b[1;33m,\u001b[0m\u001b[1;34m'FC3'\u001b[0m\u001b[1;33m,\u001b[0m\u001b[1;34m'FCz'\u001b[0m\u001b[1;33m,\u001b[0m\u001b[1;33m\u001b[0m\u001b[0m\n\u001b[0;32m     19\u001b[0m                           \u001b[1;34m'C1'\u001b[0m\u001b[1;33m,\u001b[0m\u001b[1;34m'C5'\u001b[0m\u001b[1;33m,\u001b[0m\u001b[1;34m'CP3'\u001b[0m\u001b[1;33m,\u001b[0m\u001b[1;34m'P1'\u001b[0m\u001b[1;33m,\u001b[0m\u001b[1;34m'P5'\u001b[0m\u001b[1;33m,\u001b[0m\u001b[1;34m'PO7'\u001b[0m\u001b[1;33m,\u001b[0m\u001b[1;34m'PO3'\u001b[0m\u001b[1;33m,\u001b[0m\u001b[1;34m'POz'\u001b[0m\u001b[1;33m,\u001b[0m\u001b[1;34m'PO4'\u001b[0m\u001b[1;33m,\u001b[0m\u001b[1;34m'PO8'\u001b[0m\u001b[1;33m,\u001b[0m\u001b[1;34m'P6'\u001b[0m\u001b[1;33m,\u001b[0m\u001b[1;34m'P2'\u001b[0m\u001b[1;33m,\u001b[0m\u001b[1;34m'CPz'\u001b[0m\u001b[1;33m,\u001b[0m\u001b[1;34m'CP4'\u001b[0m\u001b[1;33m,\u001b[0m\u001b[1;34m'TP8'\u001b[0m\u001b[1;33m,\u001b[0m\u001b[1;34m'C6'\u001b[0m\u001b[1;33m,\u001b[0m\u001b[1;34m'C2'\u001b[0m\u001b[1;33m,\u001b[0m\u001b[1;34m'FC4'\u001b[0m\u001b[1;33m,\u001b[0m\u001b[1;34m'FT8'\u001b[0m\u001b[1;33m,\u001b[0m\u001b[1;33m\u001b[0m\u001b[0m\n\u001b[1;32m---> 20\u001b[1;33m                           'F6','F2','AF4','AF8'])\n\u001b[0m\u001b[0;32m     21\u001b[0m         \u001b[0mi\u001b[0m \u001b[1;33m+=\u001b[0m \u001b[1;36m1\u001b[0m\u001b[1;33m\u001b[0m\u001b[0m\n\u001b[0;32m     22\u001b[0m \u001b[1;31m# see here: https://pandas.pydata.org/pandas-docs/stable/generated/pandas.DataFrame.to_csv.html\u001b[0m\u001b[1;33m\u001b[0m\u001b[1;33m\u001b[0m\u001b[0m\n",
      "\u001b[1;32mD:\\Anaconda\\lib\\site-packages\\pandas\\core\\frame.py\u001b[0m in \u001b[0;36mto_csv\u001b[1;34m(self, path_or_buf, sep, na_rep, float_format, columns, header, index, index_label, mode, encoding, compression, quoting, quotechar, line_terminator, chunksize, tupleize_cols, date_format, doublequote, escapechar, decimal)\u001b[0m\n\u001b[0;32m   1743\u001b[0m                                  \u001b[0mdoublequote\u001b[0m\u001b[1;33m=\u001b[0m\u001b[0mdoublequote\u001b[0m\u001b[1;33m,\u001b[0m\u001b[1;33m\u001b[0m\u001b[0m\n\u001b[0;32m   1744\u001b[0m                                  escapechar=escapechar, decimal=decimal)\n\u001b[1;32m-> 1745\u001b[1;33m         \u001b[0mformatter\u001b[0m\u001b[1;33m.\u001b[0m\u001b[0msave\u001b[0m\u001b[1;33m(\u001b[0m\u001b[1;33m)\u001b[0m\u001b[1;33m\u001b[0m\u001b[0m\n\u001b[0m\u001b[0;32m   1746\u001b[0m \u001b[1;33m\u001b[0m\u001b[0m\n\u001b[0;32m   1747\u001b[0m         \u001b[1;32mif\u001b[0m \u001b[0mpath_or_buf\u001b[0m \u001b[1;32mis\u001b[0m \u001b[1;32mNone\u001b[0m\u001b[1;33m:\u001b[0m\u001b[1;33m\u001b[0m\u001b[0m\n",
      "\u001b[1;32mD:\\Anaconda\\lib\\site-packages\\pandas\\io\\formats\\csvs.py\u001b[0m in \u001b[0;36msave\u001b[1;34m(self)\u001b[0m\n\u001b[0;32m    169\u001b[0m                 \u001b[0mself\u001b[0m\u001b[1;33m.\u001b[0m\u001b[0mwriter\u001b[0m \u001b[1;33m=\u001b[0m \u001b[0mUnicodeWriter\u001b[0m\u001b[1;33m(\u001b[0m\u001b[0mf\u001b[0m\u001b[1;33m,\u001b[0m \u001b[1;33m**\u001b[0m\u001b[0mwriter_kwargs\u001b[0m\u001b[1;33m)\u001b[0m\u001b[1;33m\u001b[0m\u001b[0m\n\u001b[0;32m    170\u001b[0m \u001b[1;33m\u001b[0m\u001b[0m\n\u001b[1;32m--> 171\u001b[1;33m             \u001b[0mself\u001b[0m\u001b[1;33m.\u001b[0m\u001b[0m_save\u001b[0m\u001b[1;33m(\u001b[0m\u001b[1;33m)\u001b[0m\u001b[1;33m\u001b[0m\u001b[0m\n\u001b[0m\u001b[0;32m    172\u001b[0m \u001b[1;33m\u001b[0m\u001b[0m\n\u001b[0;32m    173\u001b[0m         \u001b[1;32mfinally\u001b[0m\u001b[1;33m:\u001b[0m\u001b[1;33m\u001b[0m\u001b[0m\n",
      "\u001b[1;32mD:\\Anaconda\\lib\\site-packages\\pandas\\io\\formats\\csvs.py\u001b[0m in \u001b[0;36m_save\u001b[1;34m(self)\u001b[0m\n\u001b[0;32m    284\u001b[0m                 \u001b[1;32mbreak\u001b[0m\u001b[1;33m\u001b[0m\u001b[0m\n\u001b[0;32m    285\u001b[0m \u001b[1;33m\u001b[0m\u001b[0m\n\u001b[1;32m--> 286\u001b[1;33m             \u001b[0mself\u001b[0m\u001b[1;33m.\u001b[0m\u001b[0m_save_chunk\u001b[0m\u001b[1;33m(\u001b[0m\u001b[0mstart_i\u001b[0m\u001b[1;33m,\u001b[0m \u001b[0mend_i\u001b[0m\u001b[1;33m)\u001b[0m\u001b[1;33m\u001b[0m\u001b[0m\n\u001b[0m\u001b[0;32m    287\u001b[0m \u001b[1;33m\u001b[0m\u001b[0m\n\u001b[0;32m    288\u001b[0m     \u001b[1;32mdef\u001b[0m \u001b[0m_save_chunk\u001b[0m\u001b[1;33m(\u001b[0m\u001b[0mself\u001b[0m\u001b[1;33m,\u001b[0m \u001b[0mstart_i\u001b[0m\u001b[1;33m,\u001b[0m \u001b[0mend_i\u001b[0m\u001b[1;33m)\u001b[0m\u001b[1;33m:\u001b[0m\u001b[1;33m\u001b[0m\u001b[0m\n",
      "\u001b[1;32mD:\\Anaconda\\lib\\site-packages\\pandas\\io\\formats\\csvs.py\u001b[0m in \u001b[0;36m_save_chunk\u001b[1;34m(self, start_i, end_i)\u001b[0m\n\u001b[0;32m    311\u001b[0m \u001b[1;33m\u001b[0m\u001b[0m\n\u001b[0;32m    312\u001b[0m         libwriters.write_csv_rows(self.data, ix, self.nlevels,\n\u001b[1;32m--> 313\u001b[1;33m                                   self.cols, self.writer)\n\u001b[0m",
      "\u001b[1;32mpandas\\_libs\\writers.pyx\u001b[0m in \u001b[0;36mpandas._libs.writers.write_csv_rows\u001b[1;34m()\u001b[0m\n",
      "\u001b[1;31mKeyboardInterrupt\u001b[0m: "
     ]
    }
   ],
   "source": [
    "import mne\n",
    "import pandas as pd\n",
    "import numpy as np\n",
    "\n",
    "\n",
    "mne.set_log_level('WARNING')\n",
    "\n",
    "#NAME = \"Neele T1.{} {}\".format(int(i),int(time.time()))\n",
    "for j in range(1,40):\n",
    "    df = mne.io.read_epochs_eeglab('D:\\\\Data EEG\\\\NEELE\\\\Preprocessed Data\\\\ICA\\\\Neele T{} Epoch.set'.format(int(j)))\n",
    "    i=0\n",
    "    for ep in df:\n",
    "        dfn = pd.DataFrame(ep)\n",
    "        #dfn1 = dfn.values.flatten()\n",
    "        name = str(j)+str(i)+'.csv'\n",
    "        dfn.to_csv(name, sep='.', header=np.arange(2500),na_rep = 'mean',\n",
    "                   index=['Fp1','Fz','F3','F7','FT9','FC5','FC1','C3','T7','CP5','ÇP1','Pz','P3','P7','O1','Oz','O2','P4','P8',\n",
    "                          'CP6','CP2','C4','T8','FT10','FC6','FC2','F4','F8','Fp2','AF7','AF3','AFz','F1','F5','FT7','FC3','FCz',\n",
    "                          'C1','C5','CP3','P1','P5','PO7','PO3','POz','PO4','PO8','P6','P2','CPz','CP4','TP8','C6','C2','FC4','FT8',\n",
    "                          'F6','F2','AF4','AF8'])\n",
    "        i += 1\n",
    "# see here: https://pandas.pydata.org/pandas-docs/stable/generated/pandas.DataFrame.to_csv.html\n",
    "# for how to change the output\n"
   ]
  },
  {
   "cell_type": "code",
   "execution_count": null,
   "metadata": {},
   "outputs": [],
   "source": []
  }
 ],
 "metadata": {
  "kernelspec": {
   "display_name": "Python 3",
   "language": "python",
   "name": "python3"
  },
  "language_info": {
   "codemirror_mode": {
    "name": "ipython",
    "version": 3
   },
   "file_extension": ".py",
   "mimetype": "text/x-python",
   "name": "python",
   "nbconvert_exporter": "python",
   "pygments_lexer": "ipython3",
   "version": "3.6.5"
  }
 },
 "nbformat": 4,
 "nbformat_minor": 2
}
