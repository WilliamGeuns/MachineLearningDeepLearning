{
 "cells": [
  {
   "cell_type": "code",
   "execution_count": 38,
   "metadata": {},
   "outputs": [],
   "source": [
    "import mne\n",
    "import pandas as pd\n",
    "i=0\n",
    "\n",
    "mne.set_log_level('WARNING')\n",
    "\n",
    "#NAME = \"Neele T1.{} {}\".format(int(i),int(time.time()))\n",
    "\n",
    "df = mne.io.read_epochs_eeglab('D:\\\\Data EEG\\\\NEELE\\\\Epochs\\\\Neele T2.set')\n",
    "\n",
    "for ep in df:\n",
    "    dfn = pd.DataFrame(ep)\n",
    "    name = str(i)+'.csv'\n",
    "    dfn.to_csv(name, sep=',', header=False, index=False)\n",
    "    i += 1\n",
    "# see here: https://pandas.pydata.org/pandas-docs/stable/generated/pandas.DataFrame.to_csv.html\n",
    "# for how to change the output\n"
   ]
  },
  {
   "cell_type": "code",
   "execution_count": null,
   "metadata": {},
   "outputs": [],
   "source": []
  }
 ],
 "metadata": {
  "kernelspec": {
   "display_name": "Python 3",
   "language": "python",
   "name": "python3"
  },
  "language_info": {
   "codemirror_mode": {
    "name": "ipython",
    "version": 3
   },
   "file_extension": ".py",
   "mimetype": "text/x-python",
   "name": "python",
   "nbconvert_exporter": "python",
   "pygments_lexer": "ipython3",
   "version": "3.6.5"
  }
 },
 "nbformat": 4,
 "nbformat_minor": 2
}
